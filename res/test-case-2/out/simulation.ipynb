{
 "cells": [
  {
   "cell_type": "code",
   "execution_count": 2,
   "metadata": {},
   "outputs": [],
   "source": [
    "from OMPython import ModelicaSystem, OMCSessionZMQ\n",
    "import numpy as np\n",
    "import random\n",
    "import os\n",
    "import string\n",
    "import matplotlib.pyplot as plt\n",
    "import seaborn as sns\n",
    "import pandas as pd"
   ]
  },
  {
   "cell_type": "code",
   "execution_count": 2,
   "metadata": {},
   "outputs": [],
   "source": [
    "def load_model(folder_path, file_name, class_name):\n",
    "    file_path = folder_path + \"/\" + file_name\n",
    "    dependencies = [\"Modelica\"]\n",
    "    for file in os.listdir(folder_path):\n",
    "        if file.endswith(\".mo\") and not file == file_name:\n",
    "            dependencies.append(folder_path + \"/\" + file)\n",
    "    return ModelicaSystem(file_path, class_name, dependencies)"
   ]
  },
  {
   "cell_type": "code",
   "execution_count": 3,
   "metadata": {},
   "outputs": [],
   "source": [
    " def get_undefined_parameters(model):\n",
    "        res = []\n",
    "        for param, value in model.getParameters().items():\n",
    "            if value is None and (param.startswith(\"init_c\") or param.startswith(\"rates_c\")):\n",
    "                res.append(param)\n",
    "        return res"
   ]
  },
  {
   "cell_type": "code",
   "execution_count": 4,
   "metadata": {},
   "outputs": [],
   "source": [
    "def initiate_rates(model, lo, hi):\n",
    "    undef = get_undefined_parameters(model)\n",
    "    for param in undef:\n",
    "        if param.startswith(\"rates_c\"):\n",
    "            mean = (hi - lo)/2\n",
    "            std = mean\n",
    "            value = abs(np.random.normal(mean, std))\n",
    "            model.setParameters(**{param: value})"
   ]
  },
  {
   "cell_type": "code",
   "execution_count": 5,
   "metadata": {},
   "outputs": [],
   "source": [
    "def initiate_values(model, lo, hi):\n",
    "    undef = get_undefined_parameters(model)\n",
    "    for param in undef:\n",
    "        if param.startswith(\"init_c\"):\n",
    "            value = np.random.uniform(lo, hi)\n",
    "            model.setParameters(**{param: value})"
   ]
  },
  {
   "cell_type": "code",
   "execution_count": 6,
   "metadata": {},
   "outputs": [],
   "source": [
    "# Ritorna un oggetto Pandas DataFrame con all'interno i datapoints ({istante, valore}) delle variabili simulate del modello\n",
    "\n",
    "def get_solutions(model, variables=[]):\n",
    "    # recupera la \"linea temporale\"\n",
    "    time = model.getSolutions(\"time\")\n",
    "    # se variables è vuoto, mettici i nomi di tutte le variabili del sistema\n",
    "    if len(variables) == 0:\n",
    "        variables = model.getSolutions()\n",
    "    \n",
    "    # costruisce il dataframe con solo la prima variabile\n",
    "    solutions = [model.getSolutions(var) for var in variables]\n",
    "    df = pd.DataFrame({\"time\": time, \"value\": solutions[0], \"variable\": variables[0]})\n",
    "    \n",
    "    # appende al dataframe tutti i dati delle altre variabili\n",
    "    for i in range(1, len(variables)):\n",
    "        df = df.append(\n",
    "            pd.DataFrame({\"time\": time, \"value\": solutions[i], \"variable\": variables[i]}),\n",
    "            ignore_index=True\n",
    "        )\n",
    "    return df"
   ]
  },
  {
   "cell_type": "code",
   "execution_count": 7,
   "metadata": {},
   "outputs": [],
   "source": [
    "# Prende in input un DataFrame pandas in cui vi sia la colonna \"time\", e una lista di variabili\n",
    "# Plotta il moto delle variabili su un grafico in cui le ascisse sono l'asse del tempo e le ordinate l'asse dei valori\n",
    "# ATTENZIONE: potrebbe perdere di significato se si cerca di plottare variabili in intervalli di valori di dimensione diversa\n",
    "\n",
    "def plot_solutions(solution_frame, variables=[]):\n",
    "    if len(variables) == 0:\n",
    "        sns.lineplot(data=solution_frame, x=\"time\", y=\"value\", hue=\"variable\")\n",
    "    else:\n",
    "        sns.lineplot(data=solution_frame[solution_frame['variable'].isin(variables)], x=\"time\", y=\"value\", hue=\"variable\")"
   ]
  },
  {
   "cell_type": "markdown",
   "metadata": {},
   "source": [
    "my_model = load_model(\".\", \"biosystem.mo\", \"Biosystem\")"
   ]
  },
  {
   "cell_type": "markdown",
   "metadata": {},
   "source": [
    "initiate_rates(my_model, 10e-2, 10e5)\n",
    "initiate_values(my_model, 10e-10, 10e-5)"
   ]
  },
  {
   "cell_type": "markdown",
   "metadata": {},
   "source": [
    "my_model.setSimulationOptions(stopTime=20)\n",
    "my_model.setSimulationOptions(stepSize=10e-3)"
   ]
  },
  {
   "cell_type": "markdown",
   "metadata": {},
   "source": [
    "my_model.simulate()"
   ]
  },
  {
   "cell_type": "markdown",
   "metadata": {},
   "source": [
    "atm = get_solutions(my_model, [\"c_1.ATM\"])"
   ]
  },
  {
   "cell_type": "markdown",
   "metadata": {},
   "source": [
    "print(atm)"
   ]
  }
 ],
 "metadata": {
  "kernelspec": {
   "display_name": "Python 3",
   "language": "python",
   "name": "python3"
  },
  "language_info": {
   "codemirror_mode": {
    "name": "ipython",
    "version": 3
   },
   "file_extension": ".py",
   "mimetype": "text/x-python",
   "name": "python",
   "nbconvert_exporter": "python",
   "pygments_lexer": "ipython3",
   "version": "3.6.7"
  }
 },
 "nbformat": 4,
 "nbformat_minor": 2
}
